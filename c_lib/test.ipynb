{
 "cells": [
  {
   "cell_type": "code",
   "execution_count": 2,
   "id": "5a52600a",
   "metadata": {},
   "outputs": [
    {
     "name": "stdout",
     "output_type": "stream",
     "text": [
      "4,4\r\n"
     ]
    }
   ],
   "source": [
    "#include <stdio.h>\n",
    "int main()\n",
    "{\n",
    "/*\tchar c1=97,c2=98; //对应26题printf(\"%d %c\\r\\n\",c1,c2);*/\n",
    "/*\tint x;int y=10;x=y++; //对应27题printf(\"%d %d\\r\\n\",x,y);*/\n",
    "\tint j;j=3;printf(\"%d,\",++j);printf(\"%d\\r\\n\",j++);//对应30题\n",
    "//\tint a=12;a+=a-=a*=a;printf(\"%d\\r\\n\",a);运算结果为0,对应31题\n",
    "//\tint a=9;a+=a-=a+a;printf(\"%d\\n\",a);运算为-18,对应37题\n",
    "//\tint a=011;printf(\"%d\\n\",++a);运算结果为10,对应40题\n",
    "//\tprintf(\"%d\\n\",null);编译未通过，对应41题\n",
    "//\tint k=-1;printf(\"%d,%u\\n\",k,k);对应42题\n",
    "//\tint k=-8567;printf(\"|%06d|\\n\",k);对应44题\n",
    "//\tchar ch='a';int k=12;printf(\"%x,%o,\",ch,ch,k);printf(\"k=%%%d\\n\",k);三个%%%才为%12;对应45题\n",
    "//\tfloat a=6.17;unsigned b=323;scanf(\"%f%o\",&a,&b);第47题\n",
    "//\tchar a='a'; a--;printf(\"%d,%c\\n\",a+'2'-'0',a+'3'-'0');第48题\n",
    "//\tint i,j,k,a=3,b=2;i=(--a==b++)?--a:++b;j=a++;k=b;printf(\"i=%d,j=%d,k=%d\\n\",i,j,k);对应51题\n",
    "//\tint a=4,b=2;int c=(a/b*b+a%b);printf(\"%d\\r\\n\",c);对应53题\n",
    "//\tint i=1,sum=0;while(i<10) {sum=sum+1;i++;printf(\"i=%d,sum=%d\\r\\n\",i,sum);}对应63题\n",
    "//\tint n;for(n=1;n<=10;n++){if(n%3==0)continue;printf(\"%d\",n);}对应64题\n",
    "//\tint k1=1,k2=2,k3=3,x=15;if (!k1) x--;else if(k2) x=4;else x=3;printf(\"%d\\r\\n\",x);67题\n",
    "/*\tint num['10'];*///#define size 10 char str1[size],str2[size+2];76题\n",
    "//\tstatic int a[][]={{1,2,3},{4,5,6}};printf(\"%d\\r\\n\",a);//77ti\n",
    "//\tstatic char a[2]={1,2};printf(\"%s\\r\\n\",a);78ti\n",
    "//\tstatic char a[3];scanf(\"%s\",a);printf(\"%c,%c\\r\\n\",a[1],a[2]);79ti\n",
    "//\tchar a[10],*p,p=a=\"china\";printf(\"%s\\r\\n\",p);//\tchar a[10],*p=a;p=\"china\";printf(\"%s\\r\\n\",p);\n",
    "//\tint *p1,*p2,m=5,n;p1=&m;p2=&n;*p1=*p2;printf(\"%d\\r\\n\",m);338ti\n",
    "//\tchar *s=\"beijing\";char c[]=\"Beijing\";printf(\"%s,%s\\r\\n\",c,s);//两者等价342题\n",
    "//\tint aa[8]={0,1,2,3,4,5,6,7};printf(\"%d,%d,%d\\r\\n\",0[aa],*(0+aa),*(&aa[0]));对应345题\n",
    "//\tint a,b;scanf(\"a=%d,b=%d\",&a,&b);printf(\"a=%d,b=%d\\r\\n\",a,b);//397ti\n",
    "//\tvoid fun(int a,int b,int c){a=456;b=567;c=678;}{int x=10,y=20,z=30;fun(x,y,z);printf(\"%d,%d,%d\\n\",z,y,x);}423ti\n",
    "//\tint x=2,y=3;printf(\"%d\\r\\n\",x||y);424ti\n",
    "\t\n",
    "//\t{int x=1,a=0,b=0;switch(x){case 0:b++;case 1:a++;case 2:a++;b++;}printf(\"a=%d,b=%d\\r\\n\",a,b);}436ti\n",
    "//\tdouble a=5.5,b=2.5;printf(\"%f\\r\\n\",(int)a+b/b);439题\n",
    "//\tdouble a=5.5,b=2.5;printf(\"%f\\r\\n\",b);\n",
    "//\tint i,j,k;scanf(\"%2d%2d%2d\",&i,&j,&k);printf(\"i=%d,j=%d,k=%d\\r\\n\",i,j,k);//440ti\n",
    "//\t/*____EXAMPLE____\n",
    "//\tchar a[]={\"1235\"};\n",
    "//\tchar b[10]={'1','2','3','5'};\n",
    "//\tchar c[10]={\"1235\"};\n",
    "//\tchar d[]={'1','2','3','5'};\n",
    "//\tchar *aa[2]={\"abcd\",\"ABCD\"};printf(\"%s\\r\\n\",aa[0]);\n",
    "//\tchar *aa[]={\"a\",\"b\",\"c\",\"d\"};printf(\"%s\\r\\n\",aa[2]);/*等价//\tchar ab[]={'a','b','c','d'};printf(\"%c\\r\\n\",ab[2]);\n",
    "//\tprintf(\"%d %d\\r\\n\",sizeof(a),sizeof(b),sizeof(c),sizeof(d));\n",
    "//\tprintf(\"%d %d\\r\\n\",sizeof(&a),sizeof(&b));\n",
    "//\tprintf(\"%d %d\\r\\n\",sizeof(a),sizeof(b));\n",
    "//\tprintf(\"%c %c\\r\\n\",*(a+1),*(b+2));\n",
    "//\tprintf(\"%s %s\\r\\n\",a,b);\n",
    "//\tprintf(\"%c %c\\r\\n\",a[1],b[1]);\n",
    "//\tprintf(\"%d %d\\r\\n\",a[1],b[1]);\n",
    "//\n",
    "\treturn 0;\n",
    "}"
   ]
  },
  {
   "cell_type": "code",
   "execution_count": 14,
   "id": "209eb561",
   "metadata": {},
   "outputs": [
    {
     "name": "stdout",
     "output_type": "stream",
     "text": [
      "Please input a string: The result is: \n"
     ]
    }
   ],
   "source": [
    "#include \"stdio.h\"\n",
    "#include \"string.h\"\n",
    "char *s,*us; \n",
    " \n",
    "void uppers(char *s,int num)\n",
    "{\n",
    "int i;\n",
    "for(i=0;i < num + 1; i++){\n",
    "if(s[i]>='a' && s[i]<='z')\n",
    "s[i] = s[i]-32;\n",
    "}}\n",
    "int main()\n",
    "{\n",
    "int num;\n",
    "char ss[20];\n",
    "printf(\"Please input a string: \");\n",
    "scanf(\"%s\",ss);\n",
    "num = strlen(ss);\n",
    "s = ss;\n",
    "uppers(s,num);\n",
    "printf(\"The result is: %s\\n\",s);\n",
    "}"
   ]
  }
 ],
 "metadata": {
  "kernelspec": {
   "display_name": "C",
   "language": "c",
   "name": "c"
  },
  "language_info": {
   "file_extension": ".c",
   "mimetype": "text/plain",
   "name": "c"
  }
 },
 "nbformat": 4,
 "nbformat_minor": 5
}
